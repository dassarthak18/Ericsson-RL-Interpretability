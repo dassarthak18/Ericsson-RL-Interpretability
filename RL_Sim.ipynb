{
 "cells": [
  {
   "cell_type": "code",
   "execution_count": 2,
   "id": "b7dd7c60",
   "metadata": {},
   "outputs": [
    {
     "name": "stderr",
     "output_type": "stream",
     "text": [
      "2022-01-18 11:22:35.515368: W tensorflow/stream_executor/platform/default/dso_loader.cc:64] Could not load dynamic library 'libcudart.so.11.0'; dlerror: libcudart.so.11.0: cannot open shared object file: No such file or directory\n",
      "2022-01-18 11:22:35.515406: I tensorflow/stream_executor/cuda/cudart_stub.cc:29] Ignore above cudart dlerror if you do not have a GPU set up on your machine.\n"
     ]
    }
   ],
   "source": [
    "import algo\n",
    "import gym"
   ]
  },
  {
   "cell_type": "code",
   "execution_count": 3,
   "id": "747f179d",
   "metadata": {},
   "outputs": [
    {
     "name": "stdout",
     "output_type": "stream",
     "text": [
      "Map:\n",
      "* 0 0 0 0 \n",
      "0 0 G 0 * \n",
      "* 0 0 X 0 \n"
     ]
    }
   ],
   "source": [
    "from Env.SimpleMaze import SimpleMaze\n",
    "env = SimpleMaze(3,5,True)"
   ]
  },
  {
   "cell_type": "code",
   "execution_count": 4,
   "id": "c8243ad2",
   "metadata": {},
   "outputs": [
    {
     "name": "stderr",
     "output_type": "stream",
     "text": [
      "2022-01-18 11:22:42.689110: I tensorflow/stream_executor/cuda/cuda_gpu_executor.cc:939] successful NUMA node read from SysFS had negative value (-1), but there must be at least one NUMA node, so returning NUMA node zero\n",
      "2022-01-18 11:22:42.689744: W tensorflow/stream_executor/platform/default/dso_loader.cc:64] Could not load dynamic library 'libcudart.so.11.0'; dlerror: libcudart.so.11.0: cannot open shared object file: No such file or directory\n",
      "2022-01-18 11:22:42.689865: W tensorflow/stream_executor/platform/default/dso_loader.cc:64] Could not load dynamic library 'libcublas.so.11'; dlerror: libcublas.so.11: cannot open shared object file: No such file or directory\n",
      "2022-01-18 11:22:42.689972: W tensorflow/stream_executor/platform/default/dso_loader.cc:64] Could not load dynamic library 'libcublasLt.so.11'; dlerror: libcublasLt.so.11: cannot open shared object file: No such file or directory\n",
      "2022-01-18 11:22:42.690076: W tensorflow/stream_executor/platform/default/dso_loader.cc:64] Could not load dynamic library 'libcufft.so.10'; dlerror: libcufft.so.10: cannot open shared object file: No such file or directory\n",
      "2022-01-18 11:22:42.690178: W tensorflow/stream_executor/platform/default/dso_loader.cc:64] Could not load dynamic library 'libcurand.so.10'; dlerror: libcurand.so.10: cannot open shared object file: No such file or directory\n",
      "2022-01-18 11:22:42.690279: W tensorflow/stream_executor/platform/default/dso_loader.cc:64] Could not load dynamic library 'libcusolver.so.11'; dlerror: libcusolver.so.11: cannot open shared object file: No such file or directory\n",
      "2022-01-18 11:22:42.690380: W tensorflow/stream_executor/platform/default/dso_loader.cc:64] Could not load dynamic library 'libcusparse.so.11'; dlerror: libcusparse.so.11: cannot open shared object file: No such file or directory\n",
      "2022-01-18 11:22:42.690483: W tensorflow/stream_executor/platform/default/dso_loader.cc:64] Could not load dynamic library 'libcudnn.so.8'; dlerror: libcudnn.so.8: cannot open shared object file: No such file or directory\n",
      "2022-01-18 11:22:42.690500: W tensorflow/core/common_runtime/gpu/gpu_device.cc:1850] Cannot dlopen some GPU libraries. Please make sure the missing libraries mentioned above are installed properly if you would like to use GPU. Follow the guide at https://www.tensorflow.org/install/gpu for how to download and setup the required libraries for your platform.\n",
      "Skipping registering GPU devices...\n",
      "2022-01-18 11:22:42.690963: I tensorflow/core/platform/cpu_feature_guard.cc:151] This TensorFlow binary is optimized with oneAPI Deep Neural Network Library (oneDNN) to use the following CPU instructions in performance-critical operations:  AVX2 FMA\n",
      "To enable them in other operations, rebuild TensorFlow with the appropriate compiler flags.\n"
     ]
    },
    {
     "name": "stdout",
     "output_type": "stream",
     "text": [
      "Training for 50000 steps ...\n",
      "Interval 1 (0 steps performed)\n",
      "   72/10000 [..............................] - ETA: 14s - reward: -0.3056"
     ]
    },
    {
     "name": "stderr",
     "output_type": "stream",
     "text": [
      "/usr/local/lib/python3.9/dist-packages/keras/engine/training_v1.py:2079: UserWarning: `Model.state_updates` will be removed in a future version. This property should not be used in TensorFlow 2.0, as `updates` are applied automatically.\n",
      "  updates=self.state_updates,\n"
     ]
    },
    {
     "name": "stdout",
     "output_type": "stream",
     "text": [
      "10000/10000 [==============================] - 97s 10ms/step - reward: -0.5770\n",
      "447 episodes - episode_reward: -12.917 [-904.000, 37.000] - loss: 14.732 - mse: 90.516 - mean_q: -8.159\n",
      "\n",
      "Interval 2 (10000 steps performed)\n",
      "10000/10000 [==============================] - 98s 10ms/step - reward: 0.0234\n",
      "549 episodes - episode_reward: 0.479 [-522.000, 39.000] - loss: 12.054 - mse: 10.727 - mean_q: 2.515\n",
      "\n",
      "Interval 3 (20000 steps performed)\n",
      "10000/10000 [==============================] - 101s 10ms/step - reward: -0.1342\n",
      "542 episodes - episode_reward: -2.520 [-508.000, 36.000] - loss: 10.192 - mse: 20.368 - mean_q: 5.754\n",
      "\n",
      "Interval 4 (30000 steps performed)\n",
      "10000/10000 [==============================] - 108s 11ms/step - reward: -0.0064\n",
      "565 episodes - episode_reward: -0.115 [-712.000, 36.000] - loss: 9.921 - mse: 23.734 - mean_q: 6.237\n",
      "\n",
      "Interval 5 (40000 steps performed)\n",
      "10000/10000 [==============================] - 114s 11ms/step - reward: 0.2336\n",
      "done, took 518.790 seconds\n"
     ]
    }
   ],
   "source": [
    "agent = algo.dqn(env)"
   ]
  },
  {
   "cell_type": "code",
   "execution_count": 16,
   "id": "0c1f46da",
   "metadata": {},
   "outputs": [
    {
     "name": "stdout",
     "output_type": "stream",
     "text": [
      "Testing for 1 episodes ...\n",
      "\n",
      "Next action:Move right\n",
      "Map:\n",
      "0 G S X 0 \n",
      "0 * 0 0 * \n",
      "0 0 0 0 * \n",
      "\n",
      "Next action:Move right\n",
      "Map:\n",
      "0 G S 0 X \n",
      "0 * 0 0 * \n",
      "0 0 0 0 * \n",
      "\n",
      "Next action:Move down\n",
      "Map:\n",
      "0 G S 0 0 \n",
      "0 * 0 0 X \n",
      "0 0 0 0 * \n",
      "\n",
      "Next action:Move down\n",
      "Map:\n",
      "0 G S 0 0 \n",
      "0 * 0 0 0 \n",
      "0 0 0 0 X \n",
      "\n",
      "Next action:Move left\n",
      "Map:\n",
      "0 G S 0 0 \n",
      "0 * 0 0 0 \n",
      "0 0 0 X 0 \n",
      "\n",
      "Next action:Move left\n",
      "Map:\n",
      "0 G S 0 0 \n",
      "0 * 0 0 0 \n",
      "0 0 X 0 0 \n",
      "\n",
      "Next action:Move left\n",
      "Map:\n",
      "0 G S 0 0 \n",
      "0 * 0 0 0 \n",
      "0 X 0 0 0 \n",
      "\n",
      "Next action:Move left\n",
      "Map:\n",
      "0 G S 0 0 \n",
      "0 * 0 0 0 \n",
      "X 0 0 0 0 \n",
      "\n",
      "Next action:Move up\n",
      "Map:\n",
      "0 G S 0 0 \n",
      "X * 0 0 0 \n",
      "0 0 0 0 0 \n",
      "\n",
      "Next action:Move up\n",
      "Map:\n",
      "X G S 0 0 \n",
      "0 * 0 0 0 \n",
      "0 0 0 0 0 \n",
      "\n",
      "Next action:Move right\n",
      "Map:\n",
      "0 X S 0 0 \n",
      "0 * 0 0 0 \n",
      "0 0 0 0 0 \n",
      "Episode 1: reward: 29.000, steps: 11\n"
     ]
    },
    {
     "data": {
      "text/plain": [
       "<keras.callbacks.History at 0x7f4eb3ff3d60>"
      ]
     },
     "execution_count": 16,
     "metadata": {},
     "output_type": "execute_result"
    }
   ],
   "source": [
    "agent.test(env, nb_episodes=1, visualize=True)"
   ]
  }
 ],
 "metadata": {
  "kernelspec": {
   "display_name": "Python 3 (ipykernel)",
   "language": "python",
   "name": "python3"
  },
  "language_info": {
   "codemirror_mode": {
    "name": "ipython",
    "version": 3
   },
   "file_extension": ".py",
   "mimetype": "text/x-python",
   "name": "python",
   "nbconvert_exporter": "python",
   "pygments_lexer": "ipython3",
   "version": "3.9.7"
  }
 },
 "nbformat": 4,
 "nbformat_minor": 5
}
