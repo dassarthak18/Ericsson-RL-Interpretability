{
 "cells": [
  {
   "cell_type": "code",
   "execution_count": 1,
   "id": "b7dd7c60",
   "metadata": {},
   "outputs": [
    {
     "name": "stderr",
     "output_type": "stream",
     "text": [
      "2022-01-25 11:22:07.480467: W tensorflow/stream_executor/platform/default/dso_loader.cc:64] Could not load dynamic library 'libcudart.so.11.0'; dlerror: libcudart.so.11.0: cannot open shared object file: No such file or directory\n",
      "2022-01-25 11:22:07.480595: I tensorflow/stream_executor/cuda/cudart_stub.cc:29] Ignore above cudart dlerror if you do not have a GPU set up on your machine.\n"
     ]
    }
   ],
   "source": [
    "import gym\n",
    "from src import algo"
   ]
  },
  {
   "cell_type": "code",
   "execution_count": 2,
   "id": "747f179d",
   "metadata": {},
   "outputs": [
    {
     "name": "stdout",
     "output_type": "stream",
     "text": [
      "Map:\n",
      "0 0 0 G 0 \n",
      "0 * 0 * 0 \n",
      "0 * 0 X 0 \n"
     ]
    }
   ],
   "source": [
    "# Creating the environment\n",
    "from env.SimpleMaze import SimpleMaze\n",
    "env = SimpleMaze(3,5,True)"
   ]
  },
  {
   "cell_type": "code",
   "execution_count": 3,
   "id": "c8243ad2",
   "metadata": {},
   "outputs": [
    {
     "name": "stderr",
     "output_type": "stream",
     "text": [
      "2022-01-24 22:16:51.731132: I tensorflow/stream_executor/cuda/cuda_gpu_executor.cc:939] successful NUMA node read from SysFS had negative value (-1), but there must be at least one NUMA node, so returning NUMA node zero\n",
      "2022-01-24 22:16:51.732090: W tensorflow/stream_executor/platform/default/dso_loader.cc:64] Could not load dynamic library 'libcudart.so.11.0'; dlerror: libcudart.so.11.0: cannot open shared object file: No such file or directory\n",
      "2022-01-24 22:16:51.732207: W tensorflow/stream_executor/platform/default/dso_loader.cc:64] Could not load dynamic library 'libcublas.so.11'; dlerror: libcublas.so.11: cannot open shared object file: No such file or directory\n",
      "2022-01-24 22:16:51.732310: W tensorflow/stream_executor/platform/default/dso_loader.cc:64] Could not load dynamic library 'libcublasLt.so.11'; dlerror: libcublasLt.so.11: cannot open shared object file: No such file or directory\n",
      "2022-01-24 22:16:51.732412: W tensorflow/stream_executor/platform/default/dso_loader.cc:64] Could not load dynamic library 'libcufft.so.10'; dlerror: libcufft.so.10: cannot open shared object file: No such file or directory\n",
      "2022-01-24 22:16:51.732513: W tensorflow/stream_executor/platform/default/dso_loader.cc:64] Could not load dynamic library 'libcurand.so.10'; dlerror: libcurand.so.10: cannot open shared object file: No such file or directory\n",
      "2022-01-24 22:16:51.732613: W tensorflow/stream_executor/platform/default/dso_loader.cc:64] Could not load dynamic library 'libcusolver.so.11'; dlerror: libcusolver.so.11: cannot open shared object file: No such file or directory\n",
      "2022-01-24 22:16:51.732713: W tensorflow/stream_executor/platform/default/dso_loader.cc:64] Could not load dynamic library 'libcusparse.so.11'; dlerror: libcusparse.so.11: cannot open shared object file: No such file or directory\n",
      "2022-01-24 22:16:51.732813: W tensorflow/stream_executor/platform/default/dso_loader.cc:64] Could not load dynamic library 'libcudnn.so.8'; dlerror: libcudnn.so.8: cannot open shared object file: No such file or directory\n",
      "2022-01-24 22:16:51.732831: W tensorflow/core/common_runtime/gpu/gpu_device.cc:1850] Cannot dlopen some GPU libraries. Please make sure the missing libraries mentioned above are installed properly if you would like to use GPU. Follow the guide at https://www.tensorflow.org/install/gpu for how to download and setup the required libraries for your platform.\n",
      "Skipping registering GPU devices...\n",
      "2022-01-24 22:16:51.733271: I tensorflow/core/platform/cpu_feature_guard.cc:151] This TensorFlow binary is optimized with oneAPI Deep Neural Network Library (oneDNN) to use the following CPU instructions in performance-critical operations:  AVX2 FMA\n",
      "To enable them in other operations, rebuild TensorFlow with the appropriate compiler flags.\n"
     ]
    },
    {
     "name": "stdout",
     "output_type": "stream",
     "text": [
      "Training for 50000 steps ...\n",
      "Interval 1 (0 steps performed)\n",
      "   76/10000 [..............................] - ETA: 13s - reward: -0.1053 "
     ]
    },
    {
     "name": "stderr",
     "output_type": "stream",
     "text": [
      "/usr/local/lib/python3.9/dist-packages/keras/engine/training_v1.py:2079: UserWarning: `Model.state_updates` will be removed in a future version. This property should not be used in TensorFlow 2.0, as `updates` are applied automatically.\n",
      "  updates=self.state_updates,\n"
     ]
    },
    {
     "name": "stdout",
     "output_type": "stream",
     "text": [
      "10000/10000 [==============================] - 101s 10ms/step - reward: -0.9380\n",
      "351 episodes - episode_reward: -26.658 [-1452.000, 38.000] - loss: 18.816 - mse: 186.796 - mean_q: -13.228\n",
      "\n",
      "Interval 2 (10000 steps performed)\n",
      "10000/10000 [==============================] - 110s 11ms/step - reward: -0.0442\n",
      "548 episodes - episode_reward: -0.828 [-444.000, 37.000] - loss: 13.980 - mse: 22.196 - mean_q: -1.897\n",
      "\n",
      "Interval 3 (20000 steps performed)\n",
      "10000/10000 [==============================] - 110s 11ms/step - reward: -0.0584\n",
      "572 episodes - episode_reward: -0.965 [-675.000, 37.000] - loss: 10.937 - mse: 10.726 - mean_q: 3.662\n",
      "\n",
      "Interval 4 (30000 steps performed)\n",
      "10000/10000 [==============================] - 113s 11ms/step - reward: -0.0436\n",
      "546 episodes - episode_reward: -0.874 [-859.000, 39.000] - loss: 10.670 - mse: 15.286 - mean_q: 4.737\n",
      "\n",
      "Interval 5 (40000 steps performed)\n",
      "10000/10000 [==============================] - 114s 11ms/step - reward: -0.1550\n",
      "done, took 547.952 seconds\n"
     ]
    }
   ],
   "source": [
    "# Training an RL agent in the environment using given algorithm\n",
    "model, agent = algo.dqn(env)"
   ]
  },
  {
   "cell_type": "code",
   "execution_count": 14,
   "id": "0c1f46da",
   "metadata": {},
   "outputs": [
    {
     "name": "stdout",
     "output_type": "stream",
     "text": [
      "Testing for 1 episodes ...\n",
      "\n",
      "Next action:Move right\n",
      "Map:\n",
      "* 0 0 0 0 \n",
      "* 0 0 0 0 \n",
      "G S X * 0 \n",
      "\n",
      "Next action:Move right\n",
      "Map:\n",
      "* 0 0 0 0 \n",
      "* 0 0 0 0 \n",
      "G S 0 X 0 \n",
      "\n",
      "Next action:Move right\n",
      "Map:\n",
      "* 0 0 0 0 \n",
      "* 0 0 0 0 \n",
      "G S 0 0 X \n",
      "\n",
      "Next action:Move up\n",
      "Map:\n",
      "* 0 0 0 0 \n",
      "* 0 0 0 X \n",
      "G S 0 0 0 \n",
      "\n",
      "Next action:Move up\n",
      "Map:\n",
      "* 0 0 0 X \n",
      "* 0 0 0 0 \n",
      "G S 0 0 0 \n",
      "\n",
      "Next action:Move left\n",
      "Map:\n",
      "* 0 0 X 0 \n",
      "* 0 0 0 0 \n",
      "G S 0 0 0 \n",
      "\n",
      "Next action:Move left\n",
      "Map:\n",
      "* 0 X 0 0 \n",
      "* 0 0 0 0 \n",
      "G S 0 0 0 \n",
      "\n",
      "Next action:Move left\n",
      "Map:\n",
      "* X 0 0 0 \n",
      "* 0 0 0 0 \n",
      "G S 0 0 0 \n",
      "\n",
      "Next action:Move left\n",
      "Map:\n",
      "X 0 0 0 0 \n",
      "* 0 0 0 0 \n",
      "G S 0 0 0 \n",
      "\n",
      "Next action:Move down\n",
      "Map:\n",
      "0 0 0 0 0 \n",
      "X 0 0 0 0 \n",
      "G S 0 0 0 \n",
      "\n",
      "Next action:Move down\n",
      "Map:\n",
      "0 0 0 0 0 \n",
      "0 0 0 0 0 \n",
      "X S 0 0 0 \n",
      "Episode 1: reward: 35.000, steps: 11\n"
     ]
    },
    {
     "data": {
      "text/plain": [
       "<keras.callbacks.History at 0x7ff145ec04f0>"
      ]
     },
     "execution_count": 14,
     "metadata": {},
     "output_type": "execute_result"
    }
   ],
   "source": [
    "# Testing the trained RL agent on the environment for one episode\n",
    "agent.test(env, nb_episodes=1, visualize=True)"
   ]
  },
  {
   "cell_type": "code",
   "execution_count": 15,
   "id": "e5a7adcf",
   "metadata": {},
   "outputs": [
    {
     "name": "stderr",
     "output_type": "stream",
     "text": [
      "100%|█████████████████████████████████| 99856/99856 [00:00<00:00, 169120.09it/s]\n"
     ]
    }
   ],
   "source": [
    "# Generating dataset for ANN to DT conversion\n",
    "from src.data import dataset\n",
    "filename = \"simple_maze_3_by_5_data.csv\"\n",
    "dataset(env,filename)"
   ]
  },
  {
   "cell_type": "code",
   "execution_count": 4,
   "id": "8659e98a",
   "metadata": {},
   "outputs": [],
   "source": [
    "# Building DT from the dataset\n",
    "from src.tree import build_tree\n",
    "Tree = build_tree(filename,env.observation_space.shape[0])"
   ]
  }
 ],
 "metadata": {
  "kernelspec": {
   "display_name": "Python 3 (ipykernel)",
   "language": "python",
   "name": "python3"
  },
  "language_info": {
   "codemirror_mode": {
    "name": "ipython",
    "version": 3
   },
   "file_extension": ".py",
   "mimetype": "text/x-python",
   "name": "python",
   "nbconvert_exporter": "python",
   "pygments_lexer": "ipython3",
   "version": "3.9.7"
  }
 },
 "nbformat": 4,
 "nbformat_minor": 5
}
