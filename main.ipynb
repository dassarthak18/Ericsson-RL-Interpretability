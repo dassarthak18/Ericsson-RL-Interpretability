{
 "cells": [
  {
   "cell_type": "code",
   "execution_count": 1,
   "id": "b7dd7c60",
   "metadata": {},
   "outputs": [
    {
     "name": "stderr",
     "output_type": "stream",
     "text": [
      "2022-01-25 12:01:03.347247: W tensorflow/stream_executor/platform/default/dso_loader.cc:64] Could not load dynamic library 'libcudart.so.11.0'; dlerror: libcudart.so.11.0: cannot open shared object file: No such file or directory\n",
      "2022-01-25 12:01:03.347268: I tensorflow/stream_executor/cuda/cudart_stub.cc:29] Ignore above cudart dlerror if you do not have a GPU set up on your machine.\n"
     ]
    }
   ],
   "source": [
    "import gym\n",
    "from src import algo"
   ]
  },
  {
   "cell_type": "code",
   "execution_count": 3,
   "id": "747f179d",
   "metadata": {},
   "outputs": [
    {
     "name": "stdout",
     "output_type": "stream",
     "text": [
      "Map:\n",
      "0 0 0 * 0 \n",
      "* X G 0 * \n",
      "0 0 0 0 0 \n"
     ]
    }
   ],
   "source": [
    "# Creating the environment\n",
    "from env.SimpleMaze import SimpleMaze\n",
    "env = SimpleMaze(3,5,True)"
   ]
  },
  {
   "cell_type": "code",
   "execution_count": 3,
   "id": "c8243ad2",
   "metadata": {},
   "outputs": [
    {
     "name": "stderr",
     "output_type": "stream",
     "text": [
      "2022-01-25 12:01:20.470090: I tensorflow/stream_executor/cuda/cuda_gpu_executor.cc:939] successful NUMA node read from SysFS had negative value (-1), but there must be at least one NUMA node, so returning NUMA node zero\n",
      "2022-01-25 12:01:20.471341: W tensorflow/stream_executor/platform/default/dso_loader.cc:64] Could not load dynamic library 'libcudart.so.11.0'; dlerror: libcudart.so.11.0: cannot open shared object file: No such file or directory\n",
      "2022-01-25 12:01:20.471654: W tensorflow/stream_executor/platform/default/dso_loader.cc:64] Could not load dynamic library 'libcublas.so.11'; dlerror: libcublas.so.11: cannot open shared object file: No such file or directory\n",
      "2022-01-25 12:01:20.471922: W tensorflow/stream_executor/platform/default/dso_loader.cc:64] Could not load dynamic library 'libcublasLt.so.11'; dlerror: libcublasLt.so.11: cannot open shared object file: No such file or directory\n",
      "2022-01-25 12:01:20.472188: W tensorflow/stream_executor/platform/default/dso_loader.cc:64] Could not load dynamic library 'libcufft.so.10'; dlerror: libcufft.so.10: cannot open shared object file: No such file or directory\n",
      "2022-01-25 12:01:20.472440: W tensorflow/stream_executor/platform/default/dso_loader.cc:64] Could not load dynamic library 'libcurand.so.10'; dlerror: libcurand.so.10: cannot open shared object file: No such file or directory\n",
      "2022-01-25 12:01:20.472694: W tensorflow/stream_executor/platform/default/dso_loader.cc:64] Could not load dynamic library 'libcusolver.so.11'; dlerror: libcusolver.so.11: cannot open shared object file: No such file or directory\n",
      "2022-01-25 12:01:20.472943: W tensorflow/stream_executor/platform/default/dso_loader.cc:64] Could not load dynamic library 'libcusparse.so.11'; dlerror: libcusparse.so.11: cannot open shared object file: No such file or directory\n",
      "2022-01-25 12:01:20.473202: W tensorflow/stream_executor/platform/default/dso_loader.cc:64] Could not load dynamic library 'libcudnn.so.8'; dlerror: libcudnn.so.8: cannot open shared object file: No such file or directory\n",
      "2022-01-25 12:01:20.473243: W tensorflow/core/common_runtime/gpu/gpu_device.cc:1850] Cannot dlopen some GPU libraries. Please make sure the missing libraries mentioned above are installed properly if you would like to use GPU. Follow the guide at https://www.tensorflow.org/install/gpu for how to download and setup the required libraries for your platform.\n",
      "Skipping registering GPU devices...\n",
      "2022-01-25 12:01:20.474982: I tensorflow/core/platform/cpu_feature_guard.cc:151] This TensorFlow binary is optimized with oneAPI Deep Neural Network Library (oneDNN) to use the following CPU instructions in performance-critical operations:  AVX2 FMA\n",
      "To enable them in other operations, rebuild TensorFlow with the appropriate compiler flags.\n"
     ]
    },
    {
     "name": "stdout",
     "output_type": "stream",
     "text": [
      "Training for 50000 steps ...\n",
      "Interval 1 (0 steps performed)\n",
      "   74/10000 [..............................] - ETA: 6s - reward: -0.5946   "
     ]
    },
    {
     "name": "stderr",
     "output_type": "stream",
     "text": [
      "/usr/local/lib/python3.9/dist-packages/keras/engine/training_v1.py:2079: UserWarning: `Model.state_updates` will be removed in a future version. This property should not be used in TensorFlow 2.0, as `updates` are applied automatically.\n",
      "  updates=self.state_updates,\n"
     ]
    },
    {
     "name": "stdout",
     "output_type": "stream",
     "text": [
      "10000/10000 [==============================] - 82s 8ms/step - reward: -1.5654\n",
      "276 episodes - episode_reward: -56.493 [-1587.000, 37.000] - loss: 21.461 - mse: 274.553 - mean_q: -16.662\n",
      "\n",
      "Interval 2 (10000 steps performed)\n",
      "10000/10000 [==============================] - 106s 11ms/step - reward: -0.5164\n",
      "454 episodes - episode_reward: -11.524 [-1272.000, 37.000] - loss: 29.814 - mse: 411.837 - mean_q: -21.484\n",
      "\n",
      "Interval 3 (20000 steps performed)\n",
      "10000/10000 [==============================] - 112s 11ms/step - reward: 0.1876\n",
      "612 episodes - episode_reward: 3.067 [-575.000, 36.000] - loss: 15.518 - mse: 32.917 - mean_q: -3.389\n",
      "\n",
      "Interval 4 (30000 steps performed)\n",
      "10000/10000 [==============================] - 114s 11ms/step - reward: 0.0536\n",
      "609 episodes - episode_reward: 0.892 [-468.000, 37.000] - loss: 11.870 - mse: 9.101 - mean_q: 2.687\n",
      "\n",
      "Interval 5 (40000 steps performed)\n",
      "10000/10000 [==============================] - 116s 12ms/step - reward: 0.0718\n",
      "done, took 530.086 seconds\n"
     ]
    }
   ],
   "source": [
    "# Training an RL agent in the environment using given algorithm\n",
    "model, agent = algo.dqn(env)"
   ]
  },
  {
   "cell_type": "code",
   "execution_count": 4,
   "id": "0c1f46da",
   "metadata": {},
   "outputs": [
    {
     "name": "stdout",
     "output_type": "stream",
     "text": [
      "Testing for 1 episodes ...\n",
      "\n",
      "Next action:Move down\n",
      "Map:\n",
      "0 0 0 0 0 \n",
      "0 S 0 0 * \n",
      "G X * * 0 \n",
      "\n",
      "Next action:Move right\n",
      "Map:\n",
      "0 0 0 0 0 \n",
      "0 S 0 0 * \n",
      "G 0 X * 0 \n",
      "\n",
      "Next action:Move right\n",
      "Map:\n",
      "0 0 0 0 0 \n",
      "0 S 0 0 * \n",
      "G 0 0 X 0 \n",
      "\n",
      "Next action:Move right\n",
      "Map:\n",
      "0 0 0 0 0 \n",
      "0 S 0 0 * \n",
      "G 0 0 0 X \n",
      "\n",
      "Next action:Move up\n",
      "Map:\n",
      "0 0 0 0 0 \n",
      "0 S 0 0 X \n",
      "G 0 0 0 0 \n",
      "\n",
      "Next action:Move up\n",
      "Map:\n",
      "0 0 0 0 X \n",
      "0 S 0 0 0 \n",
      "G 0 0 0 0 \n",
      "\n",
      "Next action:Move left\n",
      "Map:\n",
      "0 0 0 X 0 \n",
      "0 S 0 0 0 \n",
      "G 0 0 0 0 \n",
      "\n",
      "Next action:Move left\n",
      "Map:\n",
      "0 0 X 0 0 \n",
      "0 S 0 0 0 \n",
      "G 0 0 0 0 \n",
      "\n",
      "Next action:Move left\n",
      "Map:\n",
      "0 X 0 0 0 \n",
      "0 S 0 0 0 \n",
      "G 0 0 0 0 \n",
      "\n",
      "Next action:Move left\n",
      "Map:\n",
      "X 0 0 0 0 \n",
      "0 S 0 0 0 \n",
      "G 0 0 0 0 \n",
      "\n",
      "Next action:Move down\n",
      "Map:\n",
      "0 0 0 0 0 \n",
      "X S 0 0 0 \n",
      "G 0 0 0 0 \n",
      "\n",
      "Next action:Move down\n",
      "Map:\n",
      "0 0 0 0 0 \n",
      "0 S 0 0 0 \n",
      "X 0 0 0 0 \n",
      "Episode 1: reward: 10.000, steps: 12\n"
     ]
    },
    {
     "data": {
      "text/plain": [
       "<keras.callbacks.History at 0x7f5e3bed9490>"
      ]
     },
     "execution_count": 4,
     "metadata": {},
     "output_type": "execute_result"
    }
   ],
   "source": [
    "# Testing the trained RL agent on the environment for one episode\n",
    "agent.test(env, nb_episodes=1, visualize=True)"
   ]
  },
  {
   "cell_type": "code",
   "execution_count": 4,
   "id": "e5a7adcf",
   "metadata": {},
   "outputs": [
    {
     "name": "stderr",
     "output_type": "stream",
     "text": [
      "100%|████████████████████████████████████| 99856/99856 [02:39<00:00, 625.90it/s]\n"
     ]
    }
   ],
   "source": [
    "# Generating dataset for ANN to DT conversion\n",
    "from src.data import dataset\n",
    "filename = \"simple_maze_3_by_5_data.csv\"\n",
    "dataset(env,model,filename)"
   ]
  },
  {
   "cell_type": "code",
   "execution_count": 4,
   "id": "8659e98a",
   "metadata": {},
   "outputs": [],
   "source": [
    "# Building DT from the dataset\n",
    "from src.tree import build_tree\n",
    "Tree = build_tree(filename,env.observation_space.shape[0])"
   ]
  }
 ],
 "metadata": {
  "kernelspec": {
   "display_name": "Python 3 (ipykernel)",
   "language": "python",
   "name": "python3"
  },
  "language_info": {
   "codemirror_mode": {
    "name": "ipython",
    "version": 3
   },
   "file_extension": ".py",
   "mimetype": "text/x-python",
   "name": "python",
   "nbconvert_exporter": "python",
   "pygments_lexer": "ipython3",
   "version": "3.9.7"
  }
 },
 "nbformat": 4,
 "nbformat_minor": 5
}
