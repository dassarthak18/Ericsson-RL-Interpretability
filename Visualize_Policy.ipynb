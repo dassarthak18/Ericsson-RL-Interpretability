{
 "cells": [
  {
   "cell_type": "code",
   "execution_count": 1,
   "id": "b7dd7c60",
   "metadata": {},
   "outputs": [
    {
     "name": "stderr",
     "output_type": "stream",
     "text": [
      "2022-03-31 15:06:36.980804: W tensorflow/stream_executor/platform/default/dso_loader.cc:64] Could not load dynamic library 'libcudart.so.11.0'; dlerror: libcudart.so.11.0: cannot open shared object file: No such file or directory\n",
      "2022-03-31 15:06:36.980845: I tensorflow/stream_executor/cuda/cudart_stub.cc:29] Ignore above cudart dlerror if you do not have a GPU set up on your machine.\n"
     ]
    }
   ],
   "source": [
    "import gym\n",
    "\n",
    "from env.SimpleMaze_v0 import SimpleMaze as s0\n",
    "from env.SimpleMaze_v0_new import SimpleMaze as s0n\n",
    "from env.SimpleMaze_v1 import SimpleMaze as s1\n",
    "from env.SimpleMaze_v1_new import SimpleMaze as s1n\n",
    "\n",
    "from src.print import print_maze\n",
    "from tensorflow import keras"
   ]
  },
  {
   "cell_type": "markdown",
   "id": "3a187933",
   "metadata": {},
   "source": [
    "## SimpleMaze_v0"
   ]
  },
  {
   "cell_type": "code",
   "execution_count": 2,
   "id": "d845b624",
   "metadata": {
    "scrolled": true
   },
   "outputs": [
    {
     "name": "stderr",
     "output_type": "stream",
     "text": [
      "2022-03-31 15:06:39.938175: I tensorflow/stream_executor/cuda/cuda_gpu_executor.cc:939] successful NUMA node read from SysFS had negative value (-1), but there must be at least one NUMA node, so returning NUMA node zero\n",
      "2022-03-31 15:06:39.939237: W tensorflow/stream_executor/platform/default/dso_loader.cc:64] Could not load dynamic library 'libcudart.so.11.0'; dlerror: libcudart.so.11.0: cannot open shared object file: No such file or directory\n",
      "2022-03-31 15:06:39.939474: W tensorflow/stream_executor/platform/default/dso_loader.cc:64] Could not load dynamic library 'libcublas.so.11'; dlerror: libcublas.so.11: cannot open shared object file: No such file or directory\n",
      "2022-03-31 15:06:39.939685: W tensorflow/stream_executor/platform/default/dso_loader.cc:64] Could not load dynamic library 'libcublasLt.so.11'; dlerror: libcublasLt.so.11: cannot open shared object file: No such file or directory\n",
      "2022-03-31 15:06:39.939890: W tensorflow/stream_executor/platform/default/dso_loader.cc:64] Could not load dynamic library 'libcufft.so.10'; dlerror: libcufft.so.10: cannot open shared object file: No such file or directory\n",
      "2022-03-31 15:06:39.940094: W tensorflow/stream_executor/platform/default/dso_loader.cc:64] Could not load dynamic library 'libcurand.so.10'; dlerror: libcurand.so.10: cannot open shared object file: No such file or directory\n",
      "2022-03-31 15:06:39.940302: W tensorflow/stream_executor/platform/default/dso_loader.cc:64] Could not load dynamic library 'libcusolver.so.11'; dlerror: libcusolver.so.11: cannot open shared object file: No such file or directory\n",
      "2022-03-31 15:06:39.940501: W tensorflow/stream_executor/platform/default/dso_loader.cc:64] Could not load dynamic library 'libcusparse.so.11'; dlerror: libcusparse.so.11: cannot open shared object file: No such file or directory\n",
      "2022-03-31 15:06:39.940706: W tensorflow/stream_executor/platform/default/dso_loader.cc:64] Could not load dynamic library 'libcudnn.so.8'; dlerror: libcudnn.so.8: cannot open shared object file: No such file or directory\n",
      "2022-03-31 15:06:39.940741: W tensorflow/core/common_runtime/gpu/gpu_device.cc:1850] Cannot dlopen some GPU libraries. Please make sure the missing libraries mentioned above are installed properly if you would like to use GPU. Follow the guide at https://www.tensorflow.org/install/gpu for how to download and setup the required libraries for your platform.\n",
      "Skipping registering GPU devices...\n",
      "2022-03-31 15:06:39.941439: I tensorflow/core/platform/cpu_feature_guard.cc:151] This TensorFlow binary is optimized with oneAPI Deep Neural Network Library (oneDNN) to use the following CPU instructions in performance-critical operations:  AVX2 FMA\n",
      "To enable them in other operations, rebuild TensorFlow with the appropriate compiler flags.\n"
     ]
    },
    {
     "name": "stdout",
     "output_type": "stream",
     "text": [
      "Map:\n",
      "0 0 0 0 \n",
      "* X 0 * \n",
      "0 G * 0 \n",
      "0 * 0 0 \n",
      "\n",
      "Direction with flags:\n",
      "\n",
      "→ ↓ ↓ ← \n",
      "→ ← → ← \n",
      "→ ↑ ↑ ← \n",
      "→ → ← ← \n",
      "\n",
      "Direction without flags:\n",
      "\n",
      "→ ↓ ↓ ← \n",
      "→ ← → ← \n",
      "→ ↑ ↑ ← \n",
      "→ → ← ← \n"
     ]
    }
   ],
   "source": [
    "model1 = keras.models.load_model(\"models/SimpleMaze_v0_DQN_50000\")\n",
    "env1 = s0(True)\n",
    "print_maze(env1,model1)"
   ]
  },
  {
   "cell_type": "markdown",
   "id": "478b3abd",
   "metadata": {},
   "source": [
    "## SimpleMaze_v0_new"
   ]
  },
  {
   "cell_type": "code",
   "execution_count": 3,
   "id": "7e01af7e",
   "metadata": {},
   "outputs": [
    {
     "name": "stdout",
     "output_type": "stream",
     "text": [
      "Map:\n",
      "0 0 0 0 \n",
      "* X 0 * \n",
      "0 G * 0 \n",
      "0 * 0 0 \n",
      "\n",
      "Direction with flags:\n",
      "\n",
      "→ ↓ ← ← \n",
      "→ ← → ← \n",
      "↓ ↓ ↓ ↑ \n",
      "→ → ↑ ← \n",
      "\n",
      "Direction without flags:\n",
      "\n",
      "→ ↓ ← ← \n",
      "→ ← → ← \n",
      "↓ ↓ ↓ ↑ \n",
      "→ ← ↑ ← \n"
     ]
    }
   ],
   "source": [
    "model2 = keras.models.load_model(\"models/SimpleMaze_v0_new_DQN_50000\")\n",
    "env2 = s0n(True)\n",
    "print_maze(env2,model2)"
   ]
  },
  {
   "cell_type": "code",
   "execution_count": 4,
   "id": "86b3cb6b",
   "metadata": {},
   "outputs": [
    {
     "data": {
      "text/plain": [
       "array([[-0.7175868 , -0.95862234,  2.5380926 , -0.624403  ]],\n",
       "      dtype=float32)"
      ]
     },
     "execution_count": 4,
     "metadata": {},
     "output_type": "execute_result"
    }
   ],
   "source": [
    "import numpy as np\n",
    "x = np.array([[1,1,1,0,0]]).reshape(1,1,5)\n",
    "arr = model2.predict(x)\n",
    "arr"
   ]
  },
  {
   "cell_type": "markdown",
   "id": "f0f1ab57",
   "metadata": {},
   "source": [
    "## SimpleMaze_v1"
   ]
  },
  {
   "cell_type": "code",
   "execution_count": 5,
   "id": "d42ab40e",
   "metadata": {},
   "outputs": [
    {
     "name": "stdout",
     "output_type": "stream",
     "text": [
      "Map:\n",
      "0 * 0 X \n",
      "0 0 0 0 \n",
      "* 0 G 0 \n",
      "* 0 * 0 \n",
      "\n",
      "Direction with flags:\n",
      "\n",
      "→ → → ↓ \n",
      "↑ ↑ → ↓ \n",
      "↑ ← ↑ ↓ \n",
      "↑ ← ← ← \n",
      "\n",
      "Direction without flags:\n",
      "\n",
      "→ → → ↓ \n",
      "↑ ↑ → ↓ \n",
      "↑ ← ↑ ↓ \n",
      "↑ ← ← ← \n"
     ]
    }
   ],
   "source": [
    "model3 = keras.models.load_model(\"models/SimpleMaze_v1_DQN_50000\")\n",
    "env3 = s1(4,4,True)\n",
    "print_maze(env3,model3)"
   ]
  },
  {
   "cell_type": "markdown",
   "id": "d2263899",
   "metadata": {},
   "source": [
    "## SimpleMaze_v1_new"
   ]
  },
  {
   "cell_type": "code",
   "execution_count": 6,
   "id": "114fd269",
   "metadata": {},
   "outputs": [
    {
     "name": "stdout",
     "output_type": "stream",
     "text": [
      "Map:\n",
      "0 * 0 0 \n",
      "0 0 0 X \n",
      "0 * * 0 \n",
      "0 G 0 * \n",
      "\n",
      "Direction with flags:\n",
      "\n",
      "↓ ↓ ↓ ← \n",
      "↓ ↓ ↓ ↓ \n",
      "→ → ↓ ↓ \n",
      "→ ↑ → ← \n",
      "\n",
      "Direction without flags:\n",
      "\n",
      "↓ ↓ ↓ ← \n",
      "↓ ↓ ↓ ↓ \n",
      "→ → ↓ ↓ \n",
      "→ ↑ → ↑ \n"
     ]
    }
   ],
   "source": [
    "model4 = keras.models.load_model(\"models/SimpleMaze_v1_new_DQN_50000\")\n",
    "env4 = s1n(4,4,True)\n",
    "print_maze(env4,model4)"
   ]
  }
 ],
 "metadata": {
  "kernelspec": {
   "display_name": "Python 3 (ipykernel)",
   "language": "python",
   "name": "python3"
  },
  "language_info": {
   "codemirror_mode": {
    "name": "ipython",
    "version": 3
   },
   "file_extension": ".py",
   "mimetype": "text/x-python",
   "name": "python",
   "nbconvert_exporter": "python",
   "pygments_lexer": "ipython3",
   "version": "3.9.7"
  }
 },
 "nbformat": 4,
 "nbformat_minor": 5
}
