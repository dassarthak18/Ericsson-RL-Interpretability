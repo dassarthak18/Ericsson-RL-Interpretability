{
 "cells": [
  {
   "cell_type": "code",
   "execution_count": 1,
   "id": "b7dd7c60",
   "metadata": {},
   "outputs": [],
   "source": [
    "import gym"
   ]
  },
  {
   "cell_type": "markdown",
   "id": "3a187933",
   "metadata": {},
   "source": [
    "## SimpleMaze_v0"
   ]
  },
  {
   "cell_type": "code",
   "execution_count": 2,
   "id": "d845b624",
   "metadata": {},
   "outputs": [
    {
     "name": "stderr",
     "output_type": "stream",
     "text": [
      "2022-03-30 16:57:21.421711: W tensorflow/stream_executor/platform/default/dso_loader.cc:64] Could not load dynamic library 'libcudart.so.11.0'; dlerror: libcudart.so.11.0: cannot open shared object file: No such file or directory\n",
      "2022-03-30 16:57:21.421750: I tensorflow/stream_executor/cuda/cudart_stub.cc:29] Ignore above cudart dlerror if you do not have a GPU set up on your machine.\n",
      "2022-03-30 16:57:24.376900: I tensorflow/stream_executor/cuda/cuda_gpu_executor.cc:939] successful NUMA node read from SysFS had negative value (-1), but there must be at least one NUMA node, so returning NUMA node zero\n",
      "2022-03-30 16:57:24.377623: W tensorflow/stream_executor/platform/default/dso_loader.cc:64] Could not load dynamic library 'libcudart.so.11.0'; dlerror: libcudart.so.11.0: cannot open shared object file: No such file or directory\n",
      "2022-03-30 16:57:24.377753: W tensorflow/stream_executor/platform/default/dso_loader.cc:64] Could not load dynamic library 'libcublas.so.11'; dlerror: libcublas.so.11: cannot open shared object file: No such file or directory\n",
      "2022-03-30 16:57:24.377863: W tensorflow/stream_executor/platform/default/dso_loader.cc:64] Could not load dynamic library 'libcublasLt.so.11'; dlerror: libcublasLt.so.11: cannot open shared object file: No such file or directory\n",
      "2022-03-30 16:57:24.377968: W tensorflow/stream_executor/platform/default/dso_loader.cc:64] Could not load dynamic library 'libcufft.so.10'; dlerror: libcufft.so.10: cannot open shared object file: No such file or directory\n",
      "2022-03-30 16:57:24.378074: W tensorflow/stream_executor/platform/default/dso_loader.cc:64] Could not load dynamic library 'libcurand.so.10'; dlerror: libcurand.so.10: cannot open shared object file: No such file or directory\n",
      "2022-03-30 16:57:24.378184: W tensorflow/stream_executor/platform/default/dso_loader.cc:64] Could not load dynamic library 'libcusolver.so.11'; dlerror: libcusolver.so.11: cannot open shared object file: No such file or directory\n",
      "2022-03-30 16:57:24.378292: W tensorflow/stream_executor/platform/default/dso_loader.cc:64] Could not load dynamic library 'libcusparse.so.11'; dlerror: libcusparse.so.11: cannot open shared object file: No such file or directory\n",
      "2022-03-30 16:57:24.378398: W tensorflow/stream_executor/platform/default/dso_loader.cc:64] Could not load dynamic library 'libcudnn.so.8'; dlerror: libcudnn.so.8: cannot open shared object file: No such file or directory\n",
      "2022-03-30 16:57:24.378416: W tensorflow/core/common_runtime/gpu/gpu_device.cc:1850] Cannot dlopen some GPU libraries. Please make sure the missing libraries mentioned above are installed properly if you would like to use GPU. Follow the guide at https://www.tensorflow.org/install/gpu for how to download and setup the required libraries for your platform.\n",
      "Skipping registering GPU devices...\n",
      "2022-03-30 16:57:24.378791: I tensorflow/core/platform/cpu_feature_guard.cc:151] This TensorFlow binary is optimized with oneAPI Deep Neural Network Library (oneDNN) to use the following CPU instructions in performance-critical operations:  AVX2 FMA\n",
      "To enable them in other operations, rebuild TensorFlow with the appropriate compiler flags.\n"
     ]
    }
   ],
   "source": [
    "from tensorflow import keras\n",
    "model1 = keras.models.load_model(\"SimpleMaze_v0_DQN_50000\")"
   ]
  },
  {
   "cell_type": "code",
   "execution_count": 3,
   "id": "5f73f16e",
   "metadata": {},
   "outputs": [
    {
     "name": "stdout",
     "output_type": "stream",
     "text": [
      "Map:\n",
      "0 0 0 0 \n",
      "* X 0 * \n",
      "0 G * 0 \n",
      "0 * 0 0 \n"
     ]
    }
   ],
   "source": [
    "# Visualizing the Optimal Policy\n",
    "from env.SimpleMaze_v0 import SimpleMaze\n",
    "env1 = SimpleMaze(True)"
   ]
  },
  {
   "cell_type": "code",
   "execution_count": 4,
   "id": "b4a4e832",
   "metadata": {},
   "outputs": [
    {
     "name": "stdout",
     "output_type": "stream",
     "text": [
      "Direction with flags:\n",
      "\n",
      "→ ↓ ↓ ← \n",
      "→ → → ← \n",
      "→ ↑ ↑ ← \n",
      "→ → ← ← \n",
      "\n",
      "Direction without flags:\n",
      "\n",
      "→ ↓ ↓ ← \n",
      "→ → → ← \n",
      "→ → ↑ ← \n",
      "→ → ← ← \n"
     ]
    }
   ],
   "source": [
    "from src.print import print_maze\n",
    "print_maze(env1,model1)"
   ]
  },
  {
   "cell_type": "markdown",
   "id": "f0f1ab57",
   "metadata": {},
   "source": [
    "## SimpleMaze_v1"
   ]
  },
  {
   "cell_type": "code",
   "execution_count": 5,
   "id": "d42ab40e",
   "metadata": {},
   "outputs": [],
   "source": [
    "model2 = keras.models.load_model(\"SimpleMaze_v1_DQN_50000\")"
   ]
  },
  {
   "cell_type": "code",
   "execution_count": 6,
   "id": "689cccf1",
   "metadata": {},
   "outputs": [
    {
     "name": "stdout",
     "output_type": "stream",
     "text": [
      "Map:\n",
      "0 0 0 0 \n",
      "* 0 0 * \n",
      "G 0 0 0 \n",
      "* 0 * X \n"
     ]
    }
   ],
   "source": [
    "# Visualizing the Optimal Policy\n",
    "from env.SimpleMaze_v1 import SimpleMaze\n",
    "env2 = SimpleMaze(4,4,True)"
   ]
  },
  {
   "cell_type": "code",
   "execution_count": 7,
   "id": "67c6992c",
   "metadata": {},
   "outputs": [
    {
     "name": "stdout",
     "output_type": "stream",
     "text": [
      "Direction with flags:\n",
      "\n",
      "→ → → ↓ \n",
      "↑ ↑ → ↓ \n",
      "↑ ← ↓ ↓ \n",
      "↑ ← ← ← \n",
      "\n",
      "Direction without flags:\n",
      "\n",
      "→ → → ↓ \n",
      "↑ ↑ → ↓ \n",
      "↑ ← ↓ ↓ \n",
      "↑ ← ← ← \n"
     ]
    }
   ],
   "source": [
    "print_maze(env2,model2)"
   ]
  }
 ],
 "metadata": {
  "kernelspec": {
   "display_name": "Python 3 (ipykernel)",
   "language": "python",
   "name": "python3"
  },
  "language_info": {
   "codemirror_mode": {
    "name": "ipython",
    "version": 3
   },
   "file_extension": ".py",
   "mimetype": "text/x-python",
   "name": "python",
   "nbconvert_exporter": "python",
   "pygments_lexer": "ipython3",
   "version": "3.9.7"
  }
 },
 "nbformat": 4,
 "nbformat_minor": 5
}
