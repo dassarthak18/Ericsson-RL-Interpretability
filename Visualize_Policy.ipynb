{
 "cells": [
  {
   "cell_type": "code",
   "execution_count": 3,
   "id": "b7dd7c60",
   "metadata": {},
   "outputs": [],
   "source": [
    "import gym\n",
    "\n",
    "from env.SimpleMaze_v0 import SimpleMaze as s0\n",
    "from env.SimpleMaze_v0_new import SimpleMaze as s0n\n",
    "from env.SimpleMaze_v1 import SimpleMaze as s1\n",
    "from env.SimpleMaze_v1_new import SimpleMaze as s1n\n",
    "\n",
    "from src.print import print_maze\n",
    "from tensorflow import keras"
   ]
  },
  {
   "cell_type": "markdown",
   "id": "3a187933",
   "metadata": {},
   "source": [
    "## SimpleMaze_v0"
   ]
  },
  {
   "cell_type": "code",
   "execution_count": 4,
   "id": "d845b624",
   "metadata": {
    "scrolled": true
   },
   "outputs": [
    {
     "name": "stdout",
     "output_type": "stream",
     "text": [
      "Map:\n",
      "0 0 0 0 \n",
      "* X 0 * \n",
      "0 G * 0 \n",
      "0 * 0 0 \n",
      "Direction with flags:\n",
      "\n",
      "→ ↓ ↓ ← \n",
      "→ → → ← \n",
      "→ ↑ ↑ ← \n",
      "→ → ← ← \n",
      "\n",
      "Direction without flags:\n",
      "\n",
      "→ ↓ ↓ ← \n",
      "→ → → ← \n",
      "→ → ↑ ← \n",
      "→ → ← ← \n"
     ]
    }
   ],
   "source": [
    "model1 = keras.models.load_model(\"models/SimpleMaze_v0_DQN_50000\")\n",
    "env1 = s0(True)\n",
    "print_maze(env1,model1)"
   ]
  },
  {
   "cell_type": "markdown",
   "id": "478b3abd",
   "metadata": {},
   "source": [
    "## SimpleMaze_v0_new"
   ]
  },
  {
   "cell_type": "code",
   "execution_count": 5,
   "id": "7e01af7e",
   "metadata": {},
   "outputs": [
    {
     "name": "stdout",
     "output_type": "stream",
     "text": [
      "Map:\n",
      "0 0 0 0 \n",
      "* X 0 * \n",
      "0 G * 0 \n",
      "0 * 0 0 \n",
      "Direction with flags:\n",
      "\n",
      "→ ↓ ← ← \n",
      "→ ↓ → ← \n",
      "↓ ↓ ↓ ↑ \n",
      "→ → ↑ ← \n",
      "\n",
      "Direction without flags:\n",
      "\n",
      "→ ↓ ← ← \n",
      "→ ↓ → ← \n",
      "↓ → ↓ ↑ \n",
      "→ ← ↑ ← \n"
     ]
    }
   ],
   "source": [
    "model2 = keras.models.load_model(\"models/SimpleMaze_v0_new_DQN_50000\")\n",
    "env2 = s0n(True)\n",
    "print_maze(env2,model2)"
   ]
  },
  {
   "cell_type": "markdown",
   "id": "f0f1ab57",
   "metadata": {},
   "source": [
    "## SimpleMaze_v1"
   ]
  },
  {
   "cell_type": "code",
   "execution_count": 6,
   "id": "d42ab40e",
   "metadata": {},
   "outputs": [
    {
     "name": "stdout",
     "output_type": "stream",
     "text": [
      "Map:\n",
      "G 0 0 0 \n",
      "* 0 0 * \n",
      "X 0 * 0 \n",
      "0 0 * 0 \n",
      "Direction with flags:\n",
      "\n",
      "→ → → ↓ \n",
      "↑ ↑ → ↓ \n",
      "↑ ← ↓ ↓ \n",
      "↑ ← ← ← \n",
      "\n",
      "Direction without flags:\n",
      "\n",
      "→ → → ↓ \n",
      "↑ ↑ → ↓ \n",
      "↑ ← ↓ ↓ \n",
      "↑ ← ← ← \n"
     ]
    }
   ],
   "source": [
    "model3 = keras.models.load_model(\"models/SimpleMaze_v1_DQN_50000\")\n",
    "env3 = s1(4,4,True)\n",
    "print_maze(env3,model3)"
   ]
  },
  {
   "cell_type": "markdown",
   "id": "d2263899",
   "metadata": {},
   "source": [
    "## SimpleMaze_v1_new"
   ]
  },
  {
   "cell_type": "code",
   "execution_count": 7,
   "id": "114fd269",
   "metadata": {},
   "outputs": [
    {
     "name": "stdout",
     "output_type": "stream",
     "text": [
      "Map:\n",
      "0 0 0 0 \n",
      "0 * 0 0 \n",
      "0 G * * \n",
      "0 0 * X \n",
      "Direction with flags:\n",
      "\n",
      "↓ ↓ ↓ ← \n",
      "↓ ↓ ↓ ↓ \n",
      "→ ↑ ↓ ← \n",
      "→ → ← ↑ \n",
      "\n",
      "Direction without flags:\n",
      "\n",
      "↓ ↓ ↓ ← \n",
      "↓ ↓ ↓ ↓ \n",
      "→ → ↓ ↓ \n",
      "→ → → ↑ \n"
     ]
    }
   ],
   "source": [
    "model4 = keras.models.load_model(\"models/SimpleMaze_v1_new_DQN_50000\")\n",
    "env4 = s1n(4,4,True)\n",
    "print_maze(env4,model4)"
   ]
  }
 ],
 "metadata": {
  "kernelspec": {
   "display_name": "Python 3 (ipykernel)",
   "language": "python",
   "name": "python3"
  },
  "language_info": {
   "codemirror_mode": {
    "name": "ipython",
    "version": 3
   },
   "file_extension": ".py",
   "mimetype": "text/x-python",
   "name": "python",
   "nbconvert_exporter": "python",
   "pygments_lexer": "ipython3",
   "version": "3.9.7"
  }
 },
 "nbformat": 4,
 "nbformat_minor": 5
}
