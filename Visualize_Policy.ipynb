{
 "cells": [
  {
   "cell_type": "code",
   "execution_count": 1,
   "id": "b7dd7c60",
   "metadata": {},
   "outputs": [
    {
     "name": "stderr",
     "output_type": "stream",
     "text": [
      "2022-04-04 00:53:49.481152: W tensorflow/stream_executor/platform/default/dso_loader.cc:64] Could not load dynamic library 'libcudart.so.11.0'; dlerror: libcudart.so.11.0: cannot open shared object file: No such file or directory\n",
      "2022-04-04 00:53:49.481192: I tensorflow/stream_executor/cuda/cudart_stub.cc:29] Ignore above cudart dlerror if you do not have a GPU set up on your machine.\n"
     ]
    }
   ],
   "source": [
    "import gym\n",
    "\n",
    "from env.SimpleMaze_v0 import SimpleMaze as s0\n",
    "from env.SimpleMaze_v0_new import SimpleMaze as s0n\n",
    "from env.SimpleMaze_v1 import SimpleMaze as s1\n",
    "from env.SimpleMaze_v1_new import SimpleMaze as s1n\n",
    "\n",
    "from src.print import print_maze\n",
    "from tensorflow import keras"
   ]
  },
  {
   "cell_type": "markdown",
   "id": "ea6f2002",
   "metadata": {},
   "source": [
    "# CEM"
   ]
  },
  {
   "cell_type": "markdown",
   "id": "e64cbafb",
   "metadata": {},
   "source": [
    "## SimpleMaze_v0"
   ]
  },
  {
   "cell_type": "code",
   "execution_count": 2,
   "id": "b86547a4",
   "metadata": {},
   "outputs": [
    {
     "name": "stderr",
     "output_type": "stream",
     "text": [
      "2022-04-04 00:53:52.293399: I tensorflow/stream_executor/cuda/cuda_gpu_executor.cc:939] successful NUMA node read from SysFS had negative value (-1), but there must be at least one NUMA node, so returning NUMA node zero\n",
      "2022-04-04 00:53:52.293999: W tensorflow/stream_executor/platform/default/dso_loader.cc:64] Could not load dynamic library 'libcudart.so.11.0'; dlerror: libcudart.so.11.0: cannot open shared object file: No such file or directory\n",
      "2022-04-04 00:53:52.294115: W tensorflow/stream_executor/platform/default/dso_loader.cc:64] Could not load dynamic library 'libcublas.so.11'; dlerror: libcublas.so.11: cannot open shared object file: No such file or directory\n",
      "2022-04-04 00:53:52.294223: W tensorflow/stream_executor/platform/default/dso_loader.cc:64] Could not load dynamic library 'libcublasLt.so.11'; dlerror: libcublasLt.so.11: cannot open shared object file: No such file or directory\n",
      "2022-04-04 00:53:52.294324: W tensorflow/stream_executor/platform/default/dso_loader.cc:64] Could not load dynamic library 'libcufft.so.10'; dlerror: libcufft.so.10: cannot open shared object file: No such file or directory\n",
      "2022-04-04 00:53:52.294427: W tensorflow/stream_executor/platform/default/dso_loader.cc:64] Could not load dynamic library 'libcurand.so.10'; dlerror: libcurand.so.10: cannot open shared object file: No such file or directory\n",
      "2022-04-04 00:53:52.294528: W tensorflow/stream_executor/platform/default/dso_loader.cc:64] Could not load dynamic library 'libcusolver.so.11'; dlerror: libcusolver.so.11: cannot open shared object file: No such file or directory\n",
      "2022-04-04 00:53:52.294629: W tensorflow/stream_executor/platform/default/dso_loader.cc:64] Could not load dynamic library 'libcusparse.so.11'; dlerror: libcusparse.so.11: cannot open shared object file: No such file or directory\n",
      "2022-04-04 00:53:52.294730: W tensorflow/stream_executor/platform/default/dso_loader.cc:64] Could not load dynamic library 'libcudnn.so.8'; dlerror: libcudnn.so.8: cannot open shared object file: No such file or directory\n",
      "2022-04-04 00:53:52.294749: W tensorflow/core/common_runtime/gpu/gpu_device.cc:1850] Cannot dlopen some GPU libraries. Please make sure the missing libraries mentioned above are installed properly if you would like to use GPU. Follow the guide at https://www.tensorflow.org/install/gpu for how to download and setup the required libraries for your platform.\n",
      "Skipping registering GPU devices...\n",
      "2022-04-04 00:53:52.295136: I tensorflow/core/platform/cpu_feature_guard.cc:151] This TensorFlow binary is optimized with oneAPI Deep Neural Network Library (oneDNN) to use the following CPU instructions in performance-critical operations:  AVX2 FMA\n",
      "To enable them in other operations, rebuild TensorFlow with the appropriate compiler flags.\n"
     ]
    },
    {
     "name": "stdout",
     "output_type": "stream",
     "text": [
      "Map:\n",
      "0 0 0 0 \n",
      "* X 0 * \n",
      "0 G * 0 \n",
      "0 * 0 0 \n",
      "\n",
      "Direction with flags:\n",
      "\n",
      "↓ ↓ ↓ ↓ \n",
      "↓ ↓ ↓ ↓ \n",
      "↓ ↓ ↓ ↓ \n",
      "↓ ↓ ↓ ↓ \n",
      "\n",
      "Direction without flags:\n",
      "\n",
      "↓ ↓ ↓ ↓ \n",
      "↓ ↓ ↓ ↓ \n",
      "↓ ↓ ↓ ↓ \n",
      "↓ ↓ ↓ ↓ \n"
     ]
    }
   ],
   "source": [
    "model1 = keras.models.load_model(\"models/SimpleMaze_v0_CEM_100000\")\n",
    "env1 = s0(True)\n",
    "print_maze(env1,model1)"
   ]
  },
  {
   "cell_type": "markdown",
   "id": "d321700b",
   "metadata": {},
   "source": [
    "## SimpleMaze_v0_new"
   ]
  },
  {
   "cell_type": "code",
   "execution_count": 3,
   "id": "a8c6fc9f",
   "metadata": {},
   "outputs": [
    {
     "name": "stdout",
     "output_type": "stream",
     "text": [
      "Map:\n",
      "0 0 0 0 \n",
      "* X 0 * \n",
      "0 G * 0 \n",
      "0 * 0 0 \n",
      "\n",
      "Direction with flags:\n",
      "\n",
      "↓ ← ← ← \n",
      "← ↓ ← ← \n",
      "← ← ← ← \n",
      "← ← ← ← \n",
      "\n",
      "Direction without flags:\n",
      "\n",
      "↓ ← ← ← \n",
      "← ↓ ← ← \n",
      "← ← ← ← \n",
      "← ← ← ← \n"
     ]
    }
   ],
   "source": [
    "model2 = keras.models.load_model(\"models/SimpleMaze_v0_new_CEM_100000\")\n",
    "env2 = s0n(True)\n",
    "print_maze(env2,model2)"
   ]
  },
  {
   "cell_type": "markdown",
   "id": "6564359c",
   "metadata": {},
   "source": [
    "## SimpleMaze_v1"
   ]
  },
  {
   "cell_type": "code",
   "execution_count": 4,
   "id": "b747600e",
   "metadata": {},
   "outputs": [
    {
     "name": "stdout",
     "output_type": "stream",
     "text": [
      "Map:\n",
      "X 0 0 0 \n",
      "* 0 * * \n",
      "0 * 0 0 \n",
      "G 0 0 0 \n",
      "\n",
      "Direction with flags:\n",
      "\n",
      "→ ← ← ← \n",
      "→ ← ← ← \n",
      "↓ ← ← ← \n",
      "↓ ← ← ← \n",
      "\n",
      "Direction without flags:\n",
      "\n",
      "→ ← ← ← \n",
      "↓ ← ← ← \n",
      "↓ ← ← ← \n",
      "↓ ← ← ← \n"
     ]
    }
   ],
   "source": [
    "model3 = keras.models.load_model(\"models/SimpleMaze_v1_CEM_100000\")\n",
    "env3 = s1(4,4,True)\n",
    "print_maze(env3,model3)"
   ]
  },
  {
   "cell_type": "markdown",
   "id": "b70f4119",
   "metadata": {},
   "source": [
    "## SimpleMaze_v1_new"
   ]
  },
  {
   "cell_type": "code",
   "execution_count": 5,
   "id": "d91225ea",
   "metadata": {},
   "outputs": [
    {
     "name": "stdout",
     "output_type": "stream",
     "text": [
      "Map:\n",
      "* 0 0 * \n",
      "0 0 0 0 \n",
      "0 X 0 G \n",
      "0 0 * * \n",
      "\n",
      "Direction with flags:\n",
      "\n",
      "↓ ← ← ↓ \n",
      "↓ ↓ ← ← \n",
      "→ ↓ ↑ ← \n",
      "→ → → → \n",
      "\n",
      "Direction without flags:\n",
      "\n",
      "↓ ← ← ← \n",
      "↓ ↓ ← ← \n",
      "→ ↓ ↑ ← \n",
      "→ → → → \n"
     ]
    }
   ],
   "source": [
    "model4 = keras.models.load_model(\"models/SimpleMaze_v1_new_CEM_100000\")\n",
    "env4 = s1n(4,4,True)\n",
    "print_maze(env4,model4)"
   ]
  },
  {
   "cell_type": "markdown",
   "id": "8884cbbf",
   "metadata": {},
   "source": [
    "# DQN"
   ]
  },
  {
   "cell_type": "markdown",
   "id": "3a187933",
   "metadata": {},
   "source": [
    "## SimpleMaze_v0"
   ]
  },
  {
   "cell_type": "code",
   "execution_count": 6,
   "id": "d845b624",
   "metadata": {
    "scrolled": true
   },
   "outputs": [
    {
     "name": "stdout",
     "output_type": "stream",
     "text": [
      "Map:\n",
      "0 0 0 0 \n",
      "* X 0 * \n",
      "0 G * 0 \n",
      "0 * 0 0 \n",
      "\n",
      "Direction with flags:\n",
      "\n",
      "→ ↓ ↓ ← \n",
      "→ ← → ← \n",
      "↓ ← ↑ ← \n",
      "→ ← ↑ ← \n",
      "\n",
      "Direction without flags:\n",
      "\n",
      "→ ↓ ↓ ← \n",
      "→ ← → ← \n",
      "↓ ← ↑ ← \n",
      "→ ← ↑ ← \n"
     ]
    }
   ],
   "source": [
    "model1 = keras.models.load_model(\"models/SimpleMaze_v0_DQN_50000\")\n",
    "env1 = s0(True)\n",
    "print_maze(env1,model1)"
   ]
  },
  {
   "cell_type": "markdown",
   "id": "478b3abd",
   "metadata": {},
   "source": [
    "## SimpleMaze_v0_new"
   ]
  },
  {
   "cell_type": "code",
   "execution_count": 7,
   "id": "7e01af7e",
   "metadata": {},
   "outputs": [
    {
     "name": "stdout",
     "output_type": "stream",
     "text": [
      "Map:\n",
      "0 0 0 0 \n",
      "* X 0 * \n",
      "0 G * 0 \n",
      "0 * 0 0 \n",
      "\n",
      "Direction with flags:\n",
      "\n",
      "→ ↓ ↓ ← \n",
      "→ → ↓ ← \n",
      "→ ↑ ↑ ← \n",
      "→ → ← ← \n",
      "\n",
      "Direction without flags:\n",
      "\n",
      "→ ↓ ↓ ← \n",
      "→ → ↓ ← \n",
      "→ ↑ ↑ ← \n",
      "→ → ← ← \n"
     ]
    }
   ],
   "source": [
    "model2 = keras.models.load_model(\"models/SimpleMaze_v0_new_DQN_50000\")\n",
    "env2 = s0n(True)\n",
    "print_maze(env2,model2)"
   ]
  },
  {
   "cell_type": "markdown",
   "id": "f0f1ab57",
   "metadata": {},
   "source": [
    "## SimpleMaze_v1"
   ]
  },
  {
   "cell_type": "code",
   "execution_count": 8,
   "id": "d42ab40e",
   "metadata": {},
   "outputs": [
    {
     "name": "stdout",
     "output_type": "stream",
     "text": [
      "Map:\n",
      "0 0 0 0 \n",
      "X 0 0 * \n",
      "0 G 0 0 \n",
      "* * * 0 \n",
      "\n",
      "Direction with flags:\n",
      "\n",
      "↓ ↓ ← ← \n",
      "↓ ← ↑ ← \n",
      "↓ → ↑ ↑ \n",
      "→ → → ↑ \n",
      "\n",
      "Direction without flags:\n",
      "\n",
      "↓ ↓ ← ← \n",
      "↓ ← ↑ ↑ \n",
      "↓ → ↑ ↑ \n",
      "→ → → ↑ \n"
     ]
    }
   ],
   "source": [
    "model3 = keras.models.load_model(\"models/SimpleMaze_v1_DQN_50000\")\n",
    "env3 = s1(4,4,True)\n",
    "print_maze(env3,model3)"
   ]
  },
  {
   "cell_type": "markdown",
   "id": "d2263899",
   "metadata": {},
   "source": [
    "## SimpleMaze_v1_new"
   ]
  },
  {
   "cell_type": "code",
   "execution_count": 9,
   "id": "114fd269",
   "metadata": {},
   "outputs": [
    {
     "name": "stdout",
     "output_type": "stream",
     "text": [
      "Map:\n",
      "0 * 0 * \n",
      "0 * * 0 \n",
      "G 0 0 0 \n",
      "0 X 0 0 \n",
      "\n",
      "Direction with flags:\n",
      "\n",
      "→ → → ↓ \n",
      "↑ → ↓ ↓ \n",
      "↑ ↓ ↓ ↓ \n",
      "↑ ← ← ← \n",
      "\n",
      "Direction without flags:\n",
      "\n",
      "→ → → ↓ \n",
      "↑ → → ↓ \n",
      "↑ ↓ ↓ ↓ \n",
      "↑ ← ← ← \n"
     ]
    }
   ],
   "source": [
    "model4 = keras.models.load_model(\"models/SimpleMaze_v1_new_DQN_50000\")\n",
    "env4 = s1n(4,4,True)\n",
    "print_maze(env4,model4)"
   ]
  },
  {
   "cell_type": "markdown",
   "id": "25a90b43",
   "metadata": {},
   "source": [
    "# SARSA"
   ]
  },
  {
   "cell_type": "markdown",
   "id": "654da661",
   "metadata": {},
   "source": [
    "## SimpleMaze_v0"
   ]
  },
  {
   "cell_type": "code",
   "execution_count": 10,
   "id": "28967c14",
   "metadata": {},
   "outputs": [
    {
     "name": "stdout",
     "output_type": "stream",
     "text": [
      "WARNING:tensorflow:No training configuration found in save file, so the model was *not* compiled. Compile it manually.\n",
      "Map:\n",
      "0 0 0 0 \n",
      "* X 0 * \n",
      "0 G * 0 \n",
      "0 * 0 0 \n",
      "\n",
      "Direction with flags:\n",
      "\n",
      "← ← ← ← \n",
      "← ← ← ← \n",
      "← ← ← ← \n",
      "← ← ← ← \n",
      "\n",
      "Direction without flags:\n",
      "\n",
      "← ← ← ← \n",
      "← ← ← ← \n",
      "← ← ← ← \n",
      "← ← ← ← \n"
     ]
    }
   ],
   "source": [
    "model1 = keras.models.load_model(\"models/SimpleMaze_v0_SARSA_50000\")\n",
    "env1 = s0(True)\n",
    "print_maze(env1,model1)"
   ]
  },
  {
   "cell_type": "markdown",
   "id": "6b46eb4b",
   "metadata": {},
   "source": [
    "## SimpleMaze_v0_new"
   ]
  },
  {
   "cell_type": "code",
   "execution_count": 11,
   "id": "45b87cb4",
   "metadata": {},
   "outputs": [
    {
     "name": "stdout",
     "output_type": "stream",
     "text": [
      "WARNING:tensorflow:No training configuration found in save file, so the model was *not* compiled. Compile it manually.\n",
      "Map:\n",
      "0 0 0 0 \n",
      "* X 0 * \n",
      "0 G * 0 \n",
      "0 * 0 0 \n",
      "\n",
      "Direction with flags:\n",
      "\n",
      "↑ ↑ ↑ ↑ \n",
      "↑ ↑ ↑ ↑ \n",
      "↑ ↑ ↑ ↑ \n",
      "↑ ↑ ↑ ↑ \n",
      "\n",
      "Direction without flags:\n",
      "\n",
      "↑ ↑ ↑ ↑ \n",
      "↑ ↑ ↑ ↑ \n",
      "↑ ↑ ↑ ↑ \n",
      "↑ ↑ ↑ ↑ \n"
     ]
    }
   ],
   "source": [
    "model2 = keras.models.load_model(\"models/SimpleMaze_v0_new_SARSA_50000\")\n",
    "env2 = s0n(True)\n",
    "print_maze(env2,model2)"
   ]
  },
  {
   "cell_type": "markdown",
   "id": "165b678b",
   "metadata": {},
   "source": [
    "## SimpleMaze_v1"
   ]
  },
  {
   "cell_type": "code",
   "execution_count": 12,
   "id": "dc8aa250",
   "metadata": {},
   "outputs": [
    {
     "name": "stdout",
     "output_type": "stream",
     "text": [
      "WARNING:tensorflow:No training configuration found in save file, so the model was *not* compiled. Compile it manually.\n",
      "Map:\n",
      "0 0 0 * \n",
      "0 * * 0 \n",
      "0 0 0 0 \n",
      "* X G 0 \n",
      "\n",
      "Direction with flags:\n",
      "\n",
      "← ← ← ← \n",
      "← ← ← ← \n",
      "← ← ← ← \n",
      "← ← ← ← \n",
      "\n",
      "Direction without flags:\n",
      "\n",
      "← ← ← ← \n",
      "← ← ← ← \n",
      "← ← ← ← \n",
      "← ← ← ← \n"
     ]
    }
   ],
   "source": [
    "model3 = keras.models.load_model(\"models/SimpleMaze_v1_SARSA_50000\")\n",
    "env3 = s1(4,4,True)\n",
    "print_maze(env3,model3)"
   ]
  },
  {
   "cell_type": "markdown",
   "id": "42cbffe4",
   "metadata": {},
   "source": [
    "## SimpleMaze_v1_new"
   ]
  },
  {
   "cell_type": "code",
   "execution_count": 13,
   "id": "465718bf",
   "metadata": {},
   "outputs": [
    {
     "name": "stdout",
     "output_type": "stream",
     "text": [
      "WARNING:tensorflow:No training configuration found in save file, so the model was *not* compiled. Compile it manually.\n",
      "Map:\n",
      "0 0 0 0 \n",
      "* G * 0 \n",
      "* 0 X 0 \n",
      "0 0 0 * \n",
      "\n",
      "Direction with flags:\n",
      "\n",
      "← ← ← ← \n",
      "↓ ← ← ← \n",
      "↓ ← ← ← \n",
      "↓ ← ← ← \n",
      "\n",
      "Direction without flags:\n",
      "\n",
      "← ← ← ← \n",
      "↓ ← ← ← \n",
      "↓ ← ← ← \n",
      "↓ ← ← ← \n"
     ]
    }
   ],
   "source": [
    "model4 = keras.models.load_model(\"models/SimpleMaze_v1_new_SARSA_50000\")\n",
    "env4 = s1n(4,4,True)\n",
    "print_maze(env4,model4)"
   ]
  }
 ],
 "metadata": {
  "kernelspec": {
   "display_name": "Python 3 (ipykernel)",
   "language": "python",
   "name": "python3"
  },
  "language_info": {
   "codemirror_mode": {
    "name": "ipython",
    "version": 3
   },
   "file_extension": ".py",
   "mimetype": "text/x-python",
   "name": "python",
   "nbconvert_exporter": "python",
   "pygments_lexer": "ipython3",
   "version": "3.9.7"
  }
 },
 "nbformat": 4,
 "nbformat_minor": 5
}
