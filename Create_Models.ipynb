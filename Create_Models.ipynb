{
 "cells": [
  {
   "cell_type": "code",
   "execution_count": 1,
   "id": "b7dd7c60",
   "metadata": {},
   "outputs": [
    {
     "name": "stderr",
     "output_type": "stream",
     "text": [
      "2022-04-07 15:00:08.615271: W tensorflow/stream_executor/platform/default/dso_loader.cc:64] Could not load dynamic library 'libcudart.so.11.0'; dlerror: libcudart.so.11.0: cannot open shared object file: No such file or directory\n",
      "2022-04-07 15:00:08.615309: I tensorflow/stream_executor/cuda/cudart_stub.cc:29] Ignore above cudart dlerror if you do not have a GPU set up on your machine.\n"
     ]
    }
   ],
   "source": [
    "import gym\n",
    "from src import algo"
   ]
  },
  {
   "cell_type": "markdown",
   "id": "f3af40dc",
   "metadata": {},
   "source": [
    "## SimpleMaze_v0 CEM"
   ]
  },
  {
   "cell_type": "code",
   "execution_count": 2,
   "id": "747f179d",
   "metadata": {
    "scrolled": true
   },
   "outputs": [
    {
     "name": "stdout",
     "output_type": "stream",
     "text": [
      "Map:\n",
      "0 0 0 0 \n",
      "* X 0 * \n",
      "0 G * 0 \n",
      "0 * 0 0 \n",
      "Training for 100000 steps ...\n",
      "Interval 1 (0 steps performed)\n",
      "    1/10000 [..............................] - ETA: 4:01 - reward: -1.0000"
     ]
    },
    {
     "name": "stderr",
     "output_type": "stream",
     "text": [
      "2022-04-07 11:51:08.711768: I tensorflow/stream_executor/cuda/cuda_gpu_executor.cc:939] successful NUMA node read from SysFS had negative value (-1), but there must be at least one NUMA node, so returning NUMA node zero\n",
      "2022-04-07 11:51:08.712398: W tensorflow/stream_executor/platform/default/dso_loader.cc:64] Could not load dynamic library 'libcudart.so.11.0'; dlerror: libcudart.so.11.0: cannot open shared object file: No such file or directory\n",
      "2022-04-07 11:51:08.712521: W tensorflow/stream_executor/platform/default/dso_loader.cc:64] Could not load dynamic library 'libcublas.so.11'; dlerror: libcublas.so.11: cannot open shared object file: No such file or directory\n",
      "2022-04-07 11:51:08.712628: W tensorflow/stream_executor/platform/default/dso_loader.cc:64] Could not load dynamic library 'libcublasLt.so.11'; dlerror: libcublasLt.so.11: cannot open shared object file: No such file or directory\n",
      "2022-04-07 11:51:08.712730: W tensorflow/stream_executor/platform/default/dso_loader.cc:64] Could not load dynamic library 'libcufft.so.10'; dlerror: libcufft.so.10: cannot open shared object file: No such file or directory\n",
      "2022-04-07 11:51:08.712831: W tensorflow/stream_executor/platform/default/dso_loader.cc:64] Could not load dynamic library 'libcurand.so.10'; dlerror: libcurand.so.10: cannot open shared object file: No such file or directory\n",
      "2022-04-07 11:51:08.712932: W tensorflow/stream_executor/platform/default/dso_loader.cc:64] Could not load dynamic library 'libcusolver.so.11'; dlerror: libcusolver.so.11: cannot open shared object file: No such file or directory\n",
      "2022-04-07 11:51:08.713032: W tensorflow/stream_executor/platform/default/dso_loader.cc:64] Could not load dynamic library 'libcusparse.so.11'; dlerror: libcusparse.so.11: cannot open shared object file: No such file or directory\n",
      "2022-04-07 11:51:08.713134: W tensorflow/stream_executor/platform/default/dso_loader.cc:64] Could not load dynamic library 'libcudnn.so.8'; dlerror: libcudnn.so.8: cannot open shared object file: No such file or directory\n",
      "2022-04-07 11:51:08.713153: W tensorflow/core/common_runtime/gpu/gpu_device.cc:1850] Cannot dlopen some GPU libraries. Please make sure the missing libraries mentioned above are installed properly if you would like to use GPU. Follow the guide at https://www.tensorflow.org/install/gpu for how to download and setup the required libraries for your platform.\n",
      "Skipping registering GPU devices...\n",
      "2022-04-07 11:51:08.713625: I tensorflow/core/platform/cpu_feature_guard.cc:151] This TensorFlow binary is optimized with oneAPI Deep Neural Network Library (oneDNN) to use the following CPU instructions in performance-critical operations:  AVX2 FMA\n",
      "To enable them in other operations, rebuild TensorFlow with the appropriate compiler flags.\n",
      "/usr/local/lib/python3.9/dist-packages/keras/engine/training_v1.py:2079: UserWarning: `Model.state_updates` will be removed in a future version. This property should not be used in TensorFlow 2.0, as `updates` are applied automatically.\n",
      "  updates=self.state_updates,\n"
     ]
    },
    {
     "name": "stdout",
     "output_type": "stream",
     "text": [
      "10000/10000 [==============================] - 13s 1ms/step - reward: -1.3395\n",
      "323 episodes - episode_reward: -41.440 [-939.000, 13.000] - mean_best_reward: 9.700\n",
      "\n",
      "Interval 2 (10000 steps performed)\n",
      "10000/10000 [==============================] - 13s 1ms/step - reward: -1.2748\n",
      "377 episodes - episode_reward: -33.841 [-649.000, 15.000] - mean_best_reward: 9.286\n",
      "\n",
      "Interval 3 (20000 steps performed)\n",
      "10000/10000 [==============================] - 14s 1ms/step - reward: -1.1418\n",
      "477 episodes - episode_reward: -23.694 [-392.000, 18.000] - mean_best_reward: 10.500\n",
      "\n",
      "Interval 4 (30000 steps performed)\n",
      "10000/10000 [==============================] - 12s 1ms/step - reward: -1.3507\n",
      "328 episodes - episode_reward: -41.482 [-409.000, 17.000] - mean_best_reward: 9.714\n",
      "\n",
      "Interval 5 (40000 steps performed)\n",
      "10000/10000 [==============================] - 12s 1ms/step - reward: -1.3052\n",
      "362 episodes - episode_reward: -36.091 [-412.000, 14.000] - mean_best_reward: 9.357\n",
      "\n",
      "Interval 6 (50000 steps performed)\n",
      "10000/10000 [==============================] - 12s 1ms/step - reward: -1.2924\n",
      "367 episodes - episode_reward: -35.232 [-403.000, 15.000] - mean_best_reward: 9.786\n",
      "\n",
      "Interval 7 (60000 steps performed)\n",
      "10000/10000 [==============================] - 13s 1ms/step - reward: -1.1708\n",
      "406 episodes - episode_reward: -28.431 [-331.000, 18.000] - mean_best_reward: 9.875\n",
      "\n",
      "Interval 8 (70000 steps performed)\n",
      "10000/10000 [==============================] - 13s 1ms/step - reward: -1.2177\n",
      "440 episodes - episode_reward: -27.941 [-410.000, 14.000] - mean_best_reward: 10.056\n",
      "\n",
      "Interval 9 (80000 steps performed)\n",
      "10000/10000 [==============================] - 12s 1ms/step - reward: -1.3185\n",
      "361 episodes - episode_reward: -35.856 [-524.000, 16.000] - mean_best_reward: 9.214\n",
      "\n",
      "Interval 10 (90000 steps performed)\n",
      "10000/10000 [==============================] - 13s 1ms/step - reward: -1.1928\n",
      "done, took 127.577 seconds\n"
     ]
    },
    {
     "name": "stderr",
     "output_type": "stream",
     "text": [
      "2022-04-07 11:53:17.185166: W tensorflow/python/util/util.cc:368] Sets are not currently considered sequences, but this may change in the future, so consider avoiding using them.\n"
     ]
    },
    {
     "name": "stdout",
     "output_type": "stream",
     "text": [
      "INFO:tensorflow:Assets written to: models/SimpleMaze_v0_CEM_100000/assets\n"
     ]
    }
   ],
   "source": [
    "from env.SimpleMaze_v0 import SimpleMaze\n",
    "env = SimpleMaze(True)\n",
    "model, agent, train_rewards = algo.cem(env)\n",
    "model.save(\"models/SimpleMaze_v0_CEM_100000\")"
   ]
  },
  {
   "cell_type": "markdown",
   "id": "499c1d3d",
   "metadata": {},
   "source": [
    "## SimpleMaze_v1 CEM"
   ]
  },
  {
   "cell_type": "code",
   "execution_count": 3,
   "id": "7ce97284",
   "metadata": {},
   "outputs": [
    {
     "name": "stdout",
     "output_type": "stream",
     "text": [
      "Map:\n",
      "* 0 * 0 \n",
      "0 G 0 * \n",
      "X 0 0 0 \n",
      "0 0 0 * \n",
      "Training for 100000 steps ...\n",
      "Interval 1 (0 steps performed)\n",
      "  109/10000 [..............................] - ETA: 15s - reward: -1.4862"
     ]
    },
    {
     "name": "stderr",
     "output_type": "stream",
     "text": [
      "/usr/local/lib/python3.9/dist-packages/keras/engine/training_v1.py:2079: UserWarning: `Model.state_updates` will be removed in a future version. This property should not be used in TensorFlow 2.0, as `updates` are applied automatically.\n",
      "  updates=self.state_updates,\n"
     ]
    },
    {
     "name": "stdout",
     "output_type": "stream",
     "text": [
      "10000/10000 [==============================] - 12s 1ms/step - reward: -1.5788\n",
      "149 episodes - episode_reward: -105.899 [-2221.000, 16.000] - mean_best_reward: 11.000\n",
      "\n",
      "Interval 2 (10000 steps performed)\n",
      "10000/10000 [==============================] - 12s 1ms/step - reward: -1.6079\n",
      "135 episodes - episode_reward: -114.563 [-1651.000, 16.000] - mean_best_reward: 10.833\n",
      "\n",
      "Interval 3 (20000 steps performed)\n",
      "10000/10000 [==============================] - 12s 1ms/step - reward: -1.5776\n",
      "158 episodes - episode_reward: -103.709 [-1833.000, 23.000] - mean_best_reward: 10.000\n",
      "\n",
      "Interval 4 (30000 steps performed)\n",
      "10000/10000 [==============================] - 12s 1ms/step - reward: -1.5528\n",
      "165 episodes - episode_reward: -94.139 [-1241.000, 19.000] - mean_best_reward: 9.125\n",
      "\n",
      "Interval 5 (40000 steps performed)\n",
      "10000/10000 [==============================] - 13s 1ms/step - reward: -1.5049\n",
      "168 episodes - episode_reward: -89.661 [-1385.000, 22.000] - mean_best_reward: 12.833\n",
      "\n",
      "Interval 6 (50000 steps performed)\n",
      "10000/10000 [==============================] - 13s 1ms/step - reward: -1.5987\n",
      "141 episodes - episode_reward: -112.312 [-2131.000, 18.000] - mean_best_reward: 14.167\n",
      "\n",
      "Interval 7 (60000 steps performed)\n",
      "10000/10000 [==============================] - 12s 1ms/step - reward: -1.5978\n",
      "155 episodes - episode_reward: -103.826 [-1787.000, 23.000] - mean_best_reward: 12.833\n",
      "\n",
      "Interval 8 (70000 steps performed)\n",
      "10000/10000 [==============================] - 13s 1ms/step - reward: -1.6268\n",
      "120 episodes - episode_reward: -135.175 [-2321.000, 16.000] - mean_best_reward: 10.750\n",
      "\n",
      "Interval 9 (80000 steps performed)\n",
      "10000/10000 [==============================] - 12s 1ms/step - reward: -1.6591\n",
      "130 episodes - episode_reward: -128.177 [-4835.000, 17.000] - mean_best_reward: 11.667\n",
      "\n",
      "Interval 10 (90000 steps performed)\n",
      "10000/10000 [==============================] - 12s 1ms/step - reward: -1.5338\n",
      "done, took 123.080 seconds\n",
      "INFO:tensorflow:Assets written to: models/SimpleMaze_v1_CEM_100000/assets\n"
     ]
    }
   ],
   "source": [
    "from env.SimpleMaze_v1 import SimpleMaze\n",
    "env = SimpleMaze(4,4,True)\n",
    "model, agent, train_rewards = algo.cem(env)\n",
    "model.save(\"models/SimpleMaze_v1_CEM_100000\")"
   ]
  },
  {
   "cell_type": "markdown",
   "id": "191863ca",
   "metadata": {},
   "source": [
    "## SimpleMaze_v0 DQN"
   ]
  },
  {
   "cell_type": "code",
   "execution_count": 4,
   "id": "6468a75e",
   "metadata": {},
   "outputs": [
    {
     "name": "stdout",
     "output_type": "stream",
     "text": [
      "Map:\n",
      "0 0 0 0 \n",
      "* X 0 * \n",
      "0 G * 0 \n",
      "0 * 0 0 \n",
      "Training for 50000 steps ...\n",
      "Interval 1 (0 steps performed)\n",
      "   80/10000 [..............................] - ETA: 12s - reward: -0.9875 "
     ]
    },
    {
     "name": "stderr",
     "output_type": "stream",
     "text": [
      "/usr/local/lib/python3.9/dist-packages/keras/engine/training_v1.py:2079: UserWarning: `Model.state_updates` will be removed in a future version. This property should not be used in TensorFlow 2.0, as `updates` are applied automatically.\n",
      "  updates=self.state_updates,\n"
     ]
    },
    {
     "name": "stdout",
     "output_type": "stream",
     "text": [
      "10000/10000 [==============================] - 100s 10ms/step - reward: -0.2694\n",
      "412 episodes - episode_reward: -6.539 [-1247.000, 28.000] - loss: 6.056 - mse: 11.039 - mean_q: 1.622\n",
      "\n",
      "Interval 2 (10000 steps performed)\n",
      "10000/10000 [==============================] - 102s 10ms/step - reward: 0.1291\n",
      "440 episodes - episode_reward: 2.882 [-456.000, 28.000] - loss: 7.617 - mse: 14.538 - mean_q: 2.404\n",
      "\n",
      "Interval 3 (20000 steps performed)\n",
      "10000/10000 [==============================] - 106s 11ms/step - reward: 0.1481\n",
      "462 episodes - episode_reward: 3.271 [-598.000, 28.000] - loss: 7.909 - mse: 16.090 - mean_q: 2.463\n",
      "\n",
      "Interval 4 (30000 steps performed)\n",
      "10000/10000 [==============================] - 111s 11ms/step - reward: -0.1896\n",
      "383 episodes - episode_reward: -4.971 [-524.000, 28.000] - loss: 7.941 - mse: 16.589 - mean_q: 2.919\n",
      "\n",
      "Interval 5 (40000 steps performed)\n",
      "10000/10000 [==============================] - 112s 11ms/step - reward: 0.2592\n",
      "done, took 531.101 seconds\n",
      "INFO:tensorflow:Assets written to: models/SimpleMaze_v0_DQN_50000/assets\n"
     ]
    }
   ],
   "source": [
    "from env.SimpleMaze_v0 import SimpleMaze\n",
    "env = SimpleMaze(True)\n",
    "model, agent, train_rewards = algo.dqn(env)\n",
    "model.save(\"models/SimpleMaze_v0_DQN_50000\")"
   ]
  },
  {
   "cell_type": "markdown",
   "id": "7660c616",
   "metadata": {},
   "source": [
    "## SimpleMaze_v1 DQN"
   ]
  },
  {
   "cell_type": "code",
   "execution_count": 2,
   "id": "f4daa609",
   "metadata": {},
   "outputs": [
    {
     "name": "stdout",
     "output_type": "stream",
     "text": [
      "Map:\n",
      "0 * 0 0 \n",
      "* 0 0 0 \n",
      "* 0 X 0 \n",
      "* 0 G 0 \n"
     ]
    },
    {
     "name": "stderr",
     "output_type": "stream",
     "text": [
      "2022-04-07 15:00:18.195920: I tensorflow/stream_executor/cuda/cuda_gpu_executor.cc:939] successful NUMA node read from SysFS had negative value (-1), but there must be at least one NUMA node, so returning NUMA node zero\n",
      "2022-04-07 15:00:18.197061: W tensorflow/stream_executor/platform/default/dso_loader.cc:64] Could not load dynamic library 'libcudart.so.11.0'; dlerror: libcudart.so.11.0: cannot open shared object file: No such file or directory\n",
      "2022-04-07 15:00:18.197311: W tensorflow/stream_executor/platform/default/dso_loader.cc:64] Could not load dynamic library 'libcublas.so.11'; dlerror: libcublas.so.11: cannot open shared object file: No such file or directory\n",
      "2022-04-07 15:00:18.197537: W tensorflow/stream_executor/platform/default/dso_loader.cc:64] Could not load dynamic library 'libcublasLt.so.11'; dlerror: libcublasLt.so.11: cannot open shared object file: No such file or directory\n",
      "2022-04-07 15:00:18.197754: W tensorflow/stream_executor/platform/default/dso_loader.cc:64] Could not load dynamic library 'libcufft.so.10'; dlerror: libcufft.so.10: cannot open shared object file: No such file or directory\n",
      "2022-04-07 15:00:18.197970: W tensorflow/stream_executor/platform/default/dso_loader.cc:64] Could not load dynamic library 'libcurand.so.10'; dlerror: libcurand.so.10: cannot open shared object file: No such file or directory\n",
      "2022-04-07 15:00:18.198188: W tensorflow/stream_executor/platform/default/dso_loader.cc:64] Could not load dynamic library 'libcusolver.so.11'; dlerror: libcusolver.so.11: cannot open shared object file: No such file or directory\n",
      "2022-04-07 15:00:18.198406: W tensorflow/stream_executor/platform/default/dso_loader.cc:64] Could not load dynamic library 'libcusparse.so.11'; dlerror: libcusparse.so.11: cannot open shared object file: No such file or directory\n",
      "2022-04-07 15:00:18.198625: W tensorflow/stream_executor/platform/default/dso_loader.cc:64] Could not load dynamic library 'libcudnn.so.8'; dlerror: libcudnn.so.8: cannot open shared object file: No such file or directory\n",
      "2022-04-07 15:00:18.198662: W tensorflow/core/common_runtime/gpu/gpu_device.cc:1850] Cannot dlopen some GPU libraries. Please make sure the missing libraries mentioned above are installed properly if you would like to use GPU. Follow the guide at https://www.tensorflow.org/install/gpu for how to download and setup the required libraries for your platform.\n",
      "Skipping registering GPU devices...\n",
      "2022-04-07 15:00:18.199601: I tensorflow/core/platform/cpu_feature_guard.cc:151] This TensorFlow binary is optimized with oneAPI Deep Neural Network Library (oneDNN) to use the following CPU instructions in performance-critical operations:  AVX2 FMA\n",
      "To enable them in other operations, rebuild TensorFlow with the appropriate compiler flags.\n"
     ]
    },
    {
     "name": "stdout",
     "output_type": "stream",
     "text": [
      "Training for 50000 steps ...\n",
      "Interval 1 (0 steps performed)\n",
      "   73/10000 [..............................] - ETA: 13s - reward: -1.2603 "
     ]
    },
    {
     "name": "stderr",
     "output_type": "stream",
     "text": [
      "/usr/local/lib/python3.9/dist-packages/keras/engine/training_v1.py:2079: UserWarning: `Model.state_updates` will be removed in a future version. This property should not be used in TensorFlow 2.0, as `updates` are applied automatically.\n",
      "  updates=self.state_updates,\n"
     ]
    },
    {
     "name": "stdout",
     "output_type": "stream",
     "text": [
      "10000/10000 [==============================] - 100s 10ms/step - reward: -0.2598\n",
      "566 episodes - episode_reward: -4.592 [-561.000, 34.000] - loss: 10.055 - mse: 90.358 - mean_q: -8.036\n",
      "\n",
      "Interval 2 (10000 steps performed)\n",
      "10000/10000 [==============================] - 102s 10ms/step - reward: -0.0210\n",
      "664 episodes - episode_reward: -0.321 [-236.000, 35.000] - loss: 10.617 - mse: 48.837 - mean_q: -4.909\n",
      "\n",
      "Interval 3 (20000 steps performed)\n",
      "10000/10000 [==============================] - 106s 11ms/step - reward: 0.1234\n",
      "704 episodes - episode_reward: 1.759 [-204.000, 35.000] - loss: 10.730 - mse: 43.493 - mean_q: -4.495\n",
      "\n",
      "Interval 4 (30000 steps performed)\n",
      "10000/10000 [==============================] - 118s 12ms/step - reward: 0.0399\n",
      "711 episodes - episode_reward: 0.556 [-286.000, 33.000] - loss: 10.649 - mse: 36.479 - mean_q: -3.797\n",
      "\n",
      "Interval 5 (40000 steps performed)\n",
      "10000/10000 [==============================] - 123s 12ms/step - reward: -0.0069\n",
      "done, took 548.669 seconds\n"
     ]
    },
    {
     "name": "stderr",
     "output_type": "stream",
     "text": [
      "2022-04-07 15:09:28.301999: W tensorflow/python/util/util.cc:368] Sets are not currently considered sequences, but this may change in the future, so consider avoiding using them.\n"
     ]
    },
    {
     "name": "stdout",
     "output_type": "stream",
     "text": [
      "INFO:tensorflow:Assets written to: models/SimpleMaze_v1_DQN_50000/assets\n"
     ]
    }
   ],
   "source": [
    "from env.SimpleMaze_v1 import SimpleMaze\n",
    "env = SimpleMaze(4,4,True)\n",
    "model, agent, train_rewards = algo.dqn(env)\n",
    "model.save(\"models/SimpleMaze_v1_DQN_50000\")"
   ]
  },
  {
   "cell_type": "code",
   "execution_count": 3,
   "id": "be661967",
   "metadata": {},
   "outputs": [
    {
     "data": {
      "text/plain": [
       "<module 'matplotlib.pyplot' from '/usr/local/lib/python3.9/dist-packages/matplotlib/pyplot.py'>"
      ]
     },
     "execution_count": 3,
     "metadata": {},
     "output_type": "execute_result"
    },
    {
     "data": {
      "image/png": "[encoded data removed]",
      "text/plain": [
       "<Figure size 432x288 with 1 Axes>"
      ]
     },
     "metadata": {
      "needs_background": "light"
     },
     "output_type": "display_data"
    }
   ],
   "source": [
    "from src import algo\n",
    "# Visualizing Training History\n",
    "plt = algo.plot_training(train_rewards)\n",
    "plt"
   ]
  },
  {
   "cell_type": "code",
   "execution_count": 11,
   "id": "3479ca4c",
   "metadata": {},
   "outputs": [
    {
     "name": "stdout",
     "output_type": "stream",
     "text": [
      "Testing for 1 episodes ...\n",
      "\n",
      "Next action:Move down\n",
      "Map:\n",
      "S 0 0 0 \n",
      "X 0 * 0 \n",
      "* * 0 * \n",
      "0 0 0 0 \n",
      "Episode 1: reward: -1.000, steps: 1\n"
     ]
    },
    {
     "data": {
      "text/plain": [
       "<keras.callbacks.History at 0x7fba70bf7640>"
      ]
     },
     "execution_count": 11,
     "metadata": {},
     "output_type": "execute_result"
    }
   ],
   "source": [
    "agent.test(env,visualize=True)"
   ]
  },
  {
   "cell_type": "code",
   "execution_count": null,
   "id": "a50c64fd",
   "metadata": {},
   "outputs": [],
   "source": []
  }
 ],
 "metadata": {
  "kernelspec": {
   "display_name": "Python 3 (ipykernel)",
   "language": "python",
   "name": "python3"
  },
  "language_info": {
   "codemirror_mode": {
    "name": "ipython",
    "version": 3
   },
   "file_extension": ".py",
   "mimetype": "text/x-python",
   "name": "python",
   "nbconvert_exporter": "python",
   "pygments_lexer": "ipython3",
   "version": "3.9.7"
  }
 },
 "nbformat": 4,
 "nbformat_minor": 5
}
